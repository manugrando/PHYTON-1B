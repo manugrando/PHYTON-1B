{
  "nbformat": 4,
  "nbformat_minor": 0,
  "metadata": {
    "colab": {
      "provenance": [],
      "authorship_tag": "ABX9TyPlZFfKvqNHGUzr/Ddnuc8d",
      "include_colab_link": true
    },
    "kernelspec": {
      "name": "python3",
      "display_name": "Python 3"
    },
    "language_info": {
      "name": "python"
    }
  },
  "cells": [
    {
      "cell_type": "markdown",
      "metadata": {
        "id": "view-in-github",
        "colab_type": "text"
      },
      "source": [
        "<a href=\"https://colab.research.google.com/github/manugrando/PHYTON-1B/blob/main/AULA_PYTHON.ipynb\" target=\"_parent\"><img src=\"https://colab.research.google.com/assets/colab-badge.svg\" alt=\"Open In Colab\"/></a>"
      ]
    },
    {
      "cell_type": "markdown",
      "source": [
        "#**AULA 1**   💓 🥰 🍒"
      ],
      "metadata": {
        "id": "eIMm8a5znsz0"
      }
    },
    {
      "cell_type": "code",
      "source": [
        " print(\"I competição de progamação da Start\")\n",
        " ano = \"IX\"\n",
        " print(f\"{ano} competição de programação da Start\")"
      ],
      "metadata": {
        "colab": {
          "base_uri": "https://localhost:8080/"
        },
        "id": "e1s1fz-wphLr",
        "outputId": "3af49eed-6095-494c-ed9d-6858b8d7b539"
      },
      "execution_count": null,
      "outputs": [
        {
          "output_type": "stream",
          "name": "stdout",
          "text": [
            "IX competição de programação da Start\n"
          ]
        }
      ]
    },
    {
      "cell_type": "markdown",
      "source": [
        "#**AULA 2** 🦋 💝 🐬"
      ],
      "metadata": {
        "id": "sSFpQg7ChGz4"
      }
    },
    {
      "cell_type": "code",
      "source": [
        "livro_ficcao = 8\n",
        "livro_n_ficcao = 10\n",
        "livro_infantil = 6\n",
        "pontos_rodrigo = livro_ficcao + livro_n_ficcao + livro_infantil\n",
        "pontos_ana = 2 * livro_ficcao + 5 * livro_infantil\n",
        "pontos_totais = pontos_rodrigo + pontos_ana\n",
        "print(f\"Os pontos totais do Rodrigo são {pontos_rodrigo}\")\n",
        "print(f\"Os pontos totais da Ana são {pontos_ana}\")\n",
        "print(f\"Os pontos totais do Rodrigo e da Ana são {pontos_totais}\")\n"
      ],
      "metadata": {
        "id": "DOckrwcJo0o_",
        "outputId": "bd067322-33cc-4319-a985-a603b4ed5b98",
        "colab": {
          "base_uri": "https://localhost:8080/"
        }
      },
      "execution_count": 4,
      "outputs": [
        {
          "output_type": "stream",
          "name": "stdout",
          "text": [
            "Os pontos totais do Rodrigo são 24\n",
            "Os pontos totais da Ana são 46\n",
            "Os pontos totais do Rodrigo e da Ana são 70\n"
          ]
        }
      ]
    }
  ]
}