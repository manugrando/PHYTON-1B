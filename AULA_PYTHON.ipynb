{
  "nbformat": 4,
  "nbformat_minor": 0,
  "metadata": {
    "colab": {
      "provenance": [],
      "authorship_tag": "ABX9TyPdCOd10liD/wD59pmPygiX",
      "include_colab_link": true
    },
    "kernelspec": {
      "name": "python3",
      "display_name": "Python 3"
    },
    "language_info": {
      "name": "python"
    }
  },
  "cells": [
    {
      "cell_type": "markdown",
      "metadata": {
        "id": "view-in-github",
        "colab_type": "text"
      },
      "source": [
        "<a href=\"https://colab.research.google.com/github/manugrando/PHYTON-1B/blob/main/AULA_PYTHON.ipynb\" target=\"_parent\"><img src=\"https://colab.research.google.com/assets/colab-badge.svg\" alt=\"Open In Colab\"/></a>"
      ]
    },
    {
      "cell_type": "markdown",
      "source": [
        "#**AULA 1**   💓 🥰 🍒"
      ],
      "metadata": {
        "id": "eIMm8a5znsz0"
      }
    },
    {
      "cell_type": "code",
      "source": [
        " print(\"I competição de progamação da Start\")\n",
        " ano = \"IX\"\n",
        " print(f\"{ano} competição de programação da Start\")"
      ],
      "metadata": {
        "colab": {
          "base_uri": "https://localhost:8080/"
        },
        "id": "e1s1fz-wphLr",
        "outputId": "3af49eed-6095-494c-ed9d-6858b8d7b539"
      },
      "execution_count": null,
      "outputs": [
        {
          "output_type": "stream",
          "name": "stdout",
          "text": [
            "IX competição de programação da Start\n"
          ]
        }
      ]
    },
    {
      "cell_type": "markdown",
      "source": [
        "#**AULA 2** 🦋 💝 🐬"
      ],
      "metadata": {
        "id": "sSFpQg7ChGz4"
      }
    },
    {
      "cell_type": "code",
      "source": [
        "livro_ficcao = 8\n",
        "livro_n_ficcao = 10\n",
        "livro_infantil = 6\n",
        "pontos_rodrigo = livro_ficcao + livro_n_ficcao + livro_infantil\n",
        "pontos_ana = 2 * livro_ficcao + 5 * livro_infantil\n",
        "pontos_totais = pontos_rodrigo + pontos_ana\n",
        "print(f\"Os pontos totais do Rodrigo são {pontos_rodrigo}\")\n",
        "print(f\"Os pontos totais da Ana são {pontos_ana}\")\n",
        "print(f\"Os pontos totais do Rodrigo e da Ana são {pontos_totais}\")\n"
      ],
      "metadata": {
        "id": "DOckrwcJo0o_",
        "outputId": "bd067322-33cc-4319-a985-a603b4ed5b98",
        "colab": {
          "base_uri": "https://localhost:8080/"
        }
      },
      "execution_count": null,
      "outputs": [
        {
          "output_type": "stream",
          "name": "stdout",
          "text": [
            "Os pontos totais do Rodrigo são 24\n",
            "Os pontos totais da Ana são 46\n",
            "Os pontos totais do Rodrigo e da Ana são 70\n"
          ]
        }
      ]
    },
    {
      "cell_type": "markdown",
      "source": [
        "#**AULA 3 TABUADA** 🐦 ✨ ❣"
      ],
      "metadata": {
        "id": "XrzpgSvvrlBe"
      }
    },
    {
      "cell_type": "code",
      "source": [
        "def tabuada(numero):\n",
        "    for contador in range(1, 11):  # Gera números de 1 a 10\n",
        "        print(f\"{numero} x {contador} = {numero * contador}\")\n",
        "numero = int(input(\"Digite um número para ver sua tabuada: \"))\n",
        "tabuada(numero)"
      ],
      "metadata": {
        "id": "dfLo0ztFsmv2",
        "outputId": "ff43e754-aa3a-46b0-c9c6-cd1b523c4cf0",
        "colab": {
          "base_uri": "https://localhost:8080/"
        }
      },
      "execution_count": null,
      "outputs": [
        {
          "output_type": "stream",
          "name": "stdout",
          "text": [
            "Digite um número para ver sua tabuada: 6\n",
            "6 x 1 = 6\n",
            "6 x 2 = 12\n",
            "6 x 3 = 18\n",
            "6 x 4 = 24\n",
            "6 x 5 = 30\n",
            "6 x 6 = 36\n",
            "6 x 7 = 42\n",
            "6 x 8 = 48\n",
            "6 x 9 = 54\n",
            "6 x 10 = 60\n"
          ]
        }
      ]
    },
    {
      "cell_type": "markdown",
      "source": [
        "#**AULA 4 IMC** ⭐ ♥ ⛅"
      ],
      "metadata": {
        "id": "Dl32zZbVuoQM"
      }
    },
    {
      "cell_type": "code",
      "source": [
        "peso = float(input(\"Digite seu peso (em kg): \"))\n",
        "altura = float(input(\"Digite sua altura (em metros): \"))\n",
        "imc = peso / (altura ** 2)\n",
        "print(f\"\\nSeu IMC é: {imc:.2f}\")\n",
        "if imc < 18.5:\n",
        "    print(\"Você está abaixo do peso.\")\n",
        "elif 18.5 <= imc < 25:\n",
        "    print(\"Você está no peso ideal.\")\n",
        "elif 25 <= imc < 30:\n",
        "    print(\"Você está com sobrepeso.\")\n",
        "else:\n",
        "    print(\"Você está acima do peso.\")"
      ],
      "metadata": {
        "id": "sBN0Bkd1vDV-",
        "outputId": "fcaeaa8b-dc20-477e-8de9-eee28cba4ca5",
        "colab": {
          "base_uri": "https://localhost:8080/"
        }
      },
      "execution_count": null,
      "outputs": [
        {
          "output_type": "stream",
          "name": "stdout",
          "text": [
            "Digite seu peso (em kg): 64\n",
            "Digite sua altura (em metros): 1.64\n",
            "\n",
            "Seu IMC é: 23.80\n",
            "Você está no peso ideal.\n"
          ]
        }
      ]
    },
    {
      "cell_type": "markdown",
      "source": [
        "#**AULA 5** ❤ ☘ ⚖"
      ],
      "metadata": {
        "id": "HKcamaJYkK__"
      }
    },
    {
      "cell_type": "code",
      "source": [
        "print(\"olá, sou seu assistente virtual, em que posso ajudar?\")\n",
        "nome = input(\"Digite seu nome: \")\n",
        "resposta = input(f\"Olá {nome}, qual tema você deseja conversar? Python, Javascript ou Matemática: \").lower()\n",
        "if resposta == \"python\":\n",
        "  print(f\"Ótimo {nome}, vamos falar sobre Python. \\n Python é uma linguagem de programação simples, versátil e poderosa, usada em web, dados, IA e automação, com sintaxe fácil e muitas bibliotecas.\")\n",
        "if resposta == \"javascript\":\n",
        "  print(f\"Ótimo {nome}, vamos falar sobre Javascript. \\n JavaScript é uma linguagem de programação voltada para a web, usada para criar páginas interativas e dinâmicas.\")\n",
        "if resposta == \"matemática\":\n",
        "  print(f\"Ótimo {nome}, vamos falar sobre Matemática. \\n Matemática é a ciência que estuda números, formas, medidas e relações entre quantidades.\")\n",
        "else:\n",
        "  print(f\"Que pena {nome}, não sei falar sobre esse assunto.\")"
      ],
      "metadata": {
        "id": "HnBA_nHFlexm",
        "outputId": "8b050958-1fbb-4540-9527-662b821014c7",
        "colab": {
          "base_uri": "https://localhost:8080/"
        }
      },
      "execution_count": 10,
      "outputs": [
        {
          "output_type": "stream",
          "name": "stdout",
          "text": [
            "olá, sou seu assistente virtual, em que posso ajudar?\n",
            "Digite seu nome: emanuely]\n",
            "Olá emanuely], qual tema você deseja conversar? Python, Javascript ou Matemática: Matemática\n",
            "Ótimo emanuely], vamos falar sobre Matemática. \n",
            " Matemática é a ciência que estuda números, formas, medidas e relações entre quantidades.\n"
          ]
        }
      ]
    },
    {
      "cell_type": "code",
      "source": [],
      "metadata": {
        "id": "HyL0bZ3cp3_m"
      },
      "execution_count": null,
      "outputs": []
    }
  ]
}